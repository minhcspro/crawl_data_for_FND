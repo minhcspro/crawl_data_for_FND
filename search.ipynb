{
 "cells": [
  {
   "cell_type": "code",
   "execution_count": 1,
   "metadata": {},
   "outputs": [],
   "source": [
    "import requests\n",
    "from bs4 import BeautifulSoup\n",
    "import random"
   ]
  },
  {
   "cell_type": "code",
   "execution_count": 7,
   "metadata": {},
   "outputs": [],
   "source": [
    "query = \"Nguyễn Quốc Đạt xài ma túy\"\n",
    "domains = ['thethao247.vn', 'chinhphu.vn', 'nld.com.vn', 'plo.vn', 'vtc.vn', 'tienphong.vn', 'quochoi.vn', 'baochinhphu.vn', 'laodong.vn',  'vietnamnet.vn', 'suckhoedoisong.vn', 'tuoitre.vn', 'thanhnien.vn', 'vov.vn', 'doisongphapluat.vn', 'hanoimoi.com.vn', 'tapchicongsan.org', 'hochiminh.org', 'nhandan.com.vn','baophapluat.vn', 'baodautu.vn', 'vnmedia.vn', 'giaoducthoidai.vn', 'baodansinh.vn', 'vanhien.vn', 'dantri.com.vn', 'baomoi.com', 'bnews.vn', 'dantocmiennui.vn', 'vnanet.vn', 'vietnam.vnanet.vn', 'cucnghethuatbieudien.gov.vn', 'moh.gov.vn', 'covid19.gov.vn']\n",
    "random.shuffle(domains)\n",
    "site_query = ' OR '.join([f'site:{domain}' for domain in domains])"
   ]
  },
  {
   "cell_type": "code",
   "execution_count": 8,
   "metadata": {},
   "outputs": [],
   "source": [
    "url = \"https://www.google.com/search?q=\" + query.replace(\" \", \"+\") + \" \" + site_query\n",
    "# print(url)\n",
    "\n",
    "headers = {'User-Agent': 'Mozilla/5.0 (Windows NT 10.0; Win64; x64) AppleWebKit/537.36 (KHTML, like Gecko) Chrome/58.0.3029.110 Safari/537.3'}\n",
    "\n",
    "response = requests.get(url, headers=headers)\n",
    "soup = BeautifulSoup(response.text, 'html.parser')"
   ]
  },
  {
   "cell_type": "code",
   "execution_count": 9,
   "metadata": {},
   "outputs": [],
   "source": [
    "links = []\n",
    "for div in soup.find_all('div', class_='yuRUbf'):\n",
    "    link = div.find('a')['href']\n",
    "    links.append(link)"
   ]
  },
  {
   "cell_type": "code",
   "execution_count": 10,
   "metadata": {},
   "outputs": [
    {
     "name": "stdout",
     "output_type": "stream",
     "text": [
      "https://vtc.vn/cong-an-ha-noi-truy-na-ke-trom-4-xe-may-trong-dem-ar643939.html\n",
      "https://thanhnien.vn/da-nang-khoi-to-hai-dai-ca-chieu-y-dan-em-mo-tiec-ma-tuy-tai-gia-1851402472.htm\n",
      "https://thanhnien.vn/dong-thap-tuyen-tu-hinh-bi-cao-tham-gia-van-chuyen-77-kg-ma-tuy-1851472567.htm\n",
      "http://nld.com.vn/phap-luat/pha-duong-day-mua-ban-hang-ngan-vien-thuoc-lac-2014060515243484.htm\n",
      "https://thanhnien.vn/thoi-su/khoi-to-bat-tam-giam-2-bi-can-van-chuyen-gan-90-kg-ma-tuy-1334953.html\n",
      "https://nhandan.com.vn/thoi-su-phap-luat/bat-khan-cap-doi-tuong-cung-cap-ma-tuy-cho-dan-choi-o-vu-truong-new-century-414484\n",
      "https://tuoitre.vn/tuyen-tu-hinh-va-tu-chung-than-2-bi-cao-chuyen-77-ky-ma-tuy-tu-dong-thap-ve-tp-hcm-20220627190158867.htm\n",
      "http://nld.com.vn/phap-luat/nguyen-can-bo-trai-giam-lua-dao-chien-sy-nghia-vu-de-chiem-doat-gan-1-ti-dong-20221111122400125.htm\n",
      "https://vietnamnet.vn/pha-duong-day-mua-ban-ma-tuy-va-vu-khi-quan-dung-221299.html\n"
     ]
    }
   ],
   "source": [
    "for link in links:\n",
    "    print(link)"
   ]
  }
 ],
 "metadata": {
  "kernelspec": {
   "display_name": "Python 3.8",
   "language": "python",
   "name": "py38"
  },
  "language_info": {
   "codemirror_mode": {
    "name": "ipython",
    "version": 3
   },
   "file_extension": ".py",
   "mimetype": "text/x-python",
   "name": "python",
   "nbconvert_exporter": "python",
   "pygments_lexer": "ipython3",
   "version": "3.10.10"
  },
  "orig_nbformat": 4
 },
 "nbformat": 4,
 "nbformat_minor": 2
}
